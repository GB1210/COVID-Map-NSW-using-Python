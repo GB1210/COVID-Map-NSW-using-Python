{
 "cells": [
  {
   "cell_type": "code",
   "execution_count": 1,
   "metadata": {},
   "outputs": [
    {
     "name": "stdin",
     "output_type": "stream",
     "text": [
      "Where are you? (# STREET, POSTCODE) >>>  Sydney NSW\n"
     ]
    },
    {
     "name": "stdout",
     "output_type": "stream",
     "text": [
      "Sydney, New South Wales, Australia\n",
      "Latitude = -33.8548157, Longitude = 151.2164539\n"
     ]
    }
   ],
   "source": [
    "import pandas as pd\n",
    "import geopandas as gpd\n",
    "import geopy\n",
    "from geopy.geocoders import Nominatim\n",
    "from geopy.extra.rate_limiter import RateLimiter\n",
    "import matplotlib.pyplot as plt\n",
    "import folium\n",
    "from folium.plugins import FastMarkerCluster\n",
    "\n",
    "locator = Nominatim(user_agent=\"myGeocoder\")\n",
    "location = input(\"Where are you? (# STREET, POSTCODE) >>> \")\n",
    "location = locator.geocode(location)\n",
    "print(location.address)\n",
    "print(\"Latitude = {}, Longitude = {}\".format(location.latitude, location.longitude))\n",
    "\n",
    "df = pd.read_csv(\"COVID Data MAN.csv\")\n",
    "df.head()\n",
    "\n",
    "df['ADDRESS'] = df['Venue'].astype(str) + ',' + ' Australia'\n",
    "\n",
    "df.head()\n",
    "\n",
    "from geopy.extra.rate_limiter import RateLimiter\n",
    "geocode = RateLimiter(locator.geocode, min_delay_seconds=1)\n",
    "df['location'] = df['ADDRESS'].apply(geocode)\n",
    "df['point'] = df['location'].apply(lambda loc: tuple(loc.point) if loc else None)\n",
    "\n",
    "df['point'][0][0]\n",
    "\n",
    "# split point column into latitude, longitude and altitude columns\n",
    "df[['latitude', 'longitude', 'altitude']] = pd.DataFrame(df['point'].tolist(), index=df.index)\n",
    "df.head()\n",
    "\n",
    "df.columns\n",
    "\n",
    "df = df.drop(['Last updated', 'Type', 'Suburb', 'Venue', 'Date and time of exposure','Health advice'], axis=1)\n",
    "df.head()\n",
    "\n",
    "df.latitude.isnull().sum()\n",
    "\n",
    "df = df[pd.notnull(df[\"latitude\"])]\n",
    "\n",
    "map1 = folium.Map(\n",
    "    location=[location.latitude, location.longitude],\n",
    "    tiles='cartodbpositron',\n",
    "    zoom_start=12,\n",
    ")\n",
    "\n",
    "df.apply(lambda row:folium.CircleMarker(location=[row[\"latitude\"], row[\"longitude\"]]).add_to(map1), axis=1)\n",
    "map1\n",
    "\n",
    "map1.save(\"map1.html\")\n",
    "\n",
    "\n",
    "\n",
    "folium_map = folium.Map(location=[location.latitude, location.longitude],\n",
    "                        zoom_start=12,\n",
    "                        tiles='CartoDB dark_matter')\n",
    "\n",
    "\n",
    "FastMarkerCluster(data=list(zip(df['latitude'].values, df['longitude'].values))).add_to(folium_map)\n",
    "folium.LayerControl().add_to(folium_map)\n",
    "folium_map\n",
    "\n",
    "folium_map.save(\"map2.html\")\n"
   ]
  }
 ],
 "metadata": {
  "hide_input": false,
  "kernelspec": {
   "display_name": "Python 3 (ipykernel)",
   "language": "python",
   "name": "python3"
  },
  "language_info": {
   "codemirror_mode": {
    "name": "ipython",
    "version": 3
   },
   "file_extension": ".py",
   "mimetype": "text/x-python",
   "name": "python",
   "nbconvert_exporter": "python",
   "pygments_lexer": "ipython3",
   "version": "3.7.10"
  }
 },
 "nbformat": 4,
 "nbformat_minor": 4
}
